{
 "cells": [
  {
   "cell_type": "markdown",
   "metadata": {},
   "source": [
    "# Introduction to Data Science with Python \n",
    "## General Assembly - 18th May 2016 Day 2##\n",
    "## Less Technical\n",
    "\n",
    "This notebook contains exercises for getting started with communication:\n",
    "1. Interview Questions OR\n",
    "2. Topic Presentation from the task list"
   ]
  },
  {
   "cell_type": "markdown",
   "metadata": {},
   "source": [
    "## Interview questions\n",
    "- What is R2 (for linear regression)\n",
    "R2 is the average of the sum of the squared error for all observations. \n",
    "This is the measure of how accurate a linear regression model is. \n",
    "\n",
    "- How do you assess whether to include a variable in a linear regression model?\n",
    "\n",
    "\n",
    "- How would you assess model accuracy?\n",
    "Split data between training set and a test set so that we can try our model with data that it has not seen before, this is helpful to prevent overfitting.\n",
    "\n",
    "- Explain what regularization is and why it is useful.\n",
    "Regularization is a technique that is used to select the best features to feed into a model, using too many features can lead to overfitting so we want to ensure that we are using the best features for our models.\n",
    "\n",
    "- Explain what resampling methods are and why they are useful. Also explain their limitations.\n",
    "Techniques used when combining multiple models together to provide great accuracy.\n",
    "\n",
    "- Give an example of how you would use experimental design to answer a question about user behaviour. \n",
    "\n",
    "- What is a recommendation engine? How does it work?\n",
    "Its a model that provides suggestions/recommendations based on similarity between user preferences or past user behaviour.\n",
    "Recommendation engines can be built using collaborative filtering or content based filtering . \n",
    "\n",
    "\n",
    "- Which tools do you use for visualization? What do you think of Tableau? R? SAS? (for graphs). How to efficiently represent 5 dimension in a chart?\n",
    "- Are you familiar with pricing optimization, price elasticity, inventory management, competitive intelligence? Give examples.\n",
    "- How can you prove that one improvement you've brought to an algorithm is really an improvement over not doing anything?\n",
    "#### Other Questions\n",
    "1. What was the last thing that you made for fun?\n",
    "2. What's your favourite algorithm? Can you explain it to me?\n",
    "3. Tell me about a data project you've done that was successful. How did you add unique value?\n",
    "4. Tell me about something that failed. What would you change if you had to do it over again? ...\n",
    "5. You clearly know a bit about our data and our work. When you look around, what's the first thing that comes to mind as \"why haven't you done X\"?! ... "
   ]
  },
  {
   "cell_type": "markdown",
   "metadata": {},
   "source": [
    "## Presentation\n",
    "Read and Review the Sentiment Analysis paper and answer:\n",
    "- How would you implement this in Tensorflow?\n",
    "- What data would you use?\n",
    "- What model would you use?\n",
    "- How would you validate your model? "
   ]
  },
  {
   "cell_type": "code",
   "execution_count": null,
   "metadata": {
    "collapsed": true
   },
   "outputs": [],
   "source": []
  }
 ],
 "metadata": {
  "kernelspec": {
   "display_name": "Python 2",
   "language": "python",
   "name": "python2"
  },
  "language_info": {
   "codemirror_mode": {
    "name": "ipython",
    "version": 2
   },
   "file_extension": ".py",
   "mimetype": "text/x-python",
   "name": "python",
   "nbconvert_exporter": "python",
   "pygments_lexer": "ipython2",
   "version": "2.7.11"
  }
 },
 "nbformat": 4,
 "nbformat_minor": 0
}
